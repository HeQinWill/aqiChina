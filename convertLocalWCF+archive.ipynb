{
 "cells": [
  {
   "cell_type": "code",
   "execution_count": null,
   "id": "e4f9a77e",
   "metadata": {},
   "outputs": [],
   "source": [
    "from io import StringIO\n",
    "from wcf.records import Record, print_records\n",
    "from contextlib import redirect_stdout\n",
    "import xml.dom.minidom\n",
    "import pandas as pd\n",
    "import numpy as np\n",
    "from pathlib import Path\n",
    "\n",
    "def xmlparse(xmlstr):\n",
    "    '''\n",
    "    parse air quality xml data to dict list\n",
    "    '''\n",
    "    dom = xml.dom.minidom.parseString(xmlstr)\n",
    "    root = dom.documentElement\n",
    "    stats = dom.getElementsByTagName(\"AQIDataPublishLive\")\n",
    "    airdata = []\n",
    "    for stat in stats:\n",
    "        # print len(stat.childNodes)\n",
    "        r = {}\n",
    "        for node in stat.childNodes:\n",
    "            if (node.nodeName == \"#text\" or\n",
    "                    node.nodeName == \"OpenAccessGenerated\"):\n",
    "                continue\n",
    "            inx = node.nodeName\n",
    "            inx = inx.lower()\n",
    "            for n in node.childNodes:\n",
    "                # print n.data\n",
    "                r[inx] = n.data\n",
    "        airdata.append(r)\n",
    "    return airdata\n",
    "    \n",
    "def data_from_xml_json(xmlfile):\n",
    "    '''\n",
    "    预处理由 wcf 转换后的 xml，将不必要的字符删除\n",
    "    '''\n",
    "    # fp = open(xmlfile) # 如果是之前存储下来的文件需要先 open\n",
    "    # data = fp.read()\n",
    "    data = xmlfile\n",
    "\n",
    "    # this is for the air quality data, to split some charicters\n",
    "    data = data.replace(\"a:\", \"\")\n",
    "    data = data.replace(\"b:\", \"\")\n",
    "    data = data.replace(\"c:\", \"\")\n",
    "    data = data.replace(\"&mdash\", \"-\")\n",
    "    return xmlparse(data)"
   ]
  },
  {
   "cell_type": "markdown",
   "id": "5dc0df43",
   "metadata": {},
   "source": [
    "先转换第 13 分钟获取的结果"
   ]
  },
  {
   "cell_type": "code",
   "execution_count": null,
   "id": "a3ded8de",
   "metadata": {},
   "outputs": [],
   "source": [
    "# 尽量用后一个时刻的结果（也就是第 13 分钟），可能数据更全些 \n",
    "fileList = list(Path('.').glob('cnemc_*13'))\n",
    "# fileList = list(Path('.').glob('cnemc_*43'))\n",
    "\n",
    "for f in fileList[:]:\n",
    "    print(f)\n",
    "    r = open(f,'rb')\n",
    "    records = Record.parse(r)\n",
    "\n",
    "    # 将print在std.out的内容赋予变量out_xml\n",
    "    f = StringIO()\n",
    "    with redirect_stdout(f):\n",
    "        print_records(records)\n",
    "    out_xml = f.getvalue()\n",
    "    \n",
    "    # 将数据从总的 xml 转为各个 dict 组成的 list\n",
    "    data_dict = data_from_xml_json(out_xml)\n",
    "    \n",
    "    # 将字典转为 DataFrame\n",
    "    df = pd.DataFrame.from_dict(data_dict)\n",
    "    # 如果出现不同的时间就把全部数据输出一份\n",
    "    if len(df['timepoint'].unique())>1:\n",
    "        df.to_csv('Problem'+df['timepoint'].unique()[0][:13]+'.csv',index=None)\n",
    "\n",
    "    # 将数据处理下再输出\n",
    "    df_ = df[['stationcode','timepoint','area', 'positionname', 'latitude', 'longitude',\n",
    "            'aqi','pm10', 'pm10_24h', 'pm2_5', 'pm2_5_24h','o3', 'o3_24h', 'o3_8h', 'o3_8h_24h',\n",
    "            'no2', 'no2_24h', 'so2', 'so2_24h','co', 'co_24h','primarypollutant']]\n",
    "    df_ = df_.where(df_!='-;',np.nan) \n",
    "    # 将每小时数据保存为 csv 文件\n",
    "    df_.to_csv(df['timepoint'].unique()[-1][:13]+'.csv',index=None)"
   ]
  },
  {
   "cell_type": "code",
   "execution_count": null,
   "id": "99707e8b",
   "metadata": {},
   "outputs": [],
   "source": [
    "!zip cnemc13_$(date +%Y%m%d%H%M).zip *.csv\n",
    "!rm *.csv"
   ]
  },
  {
   "cell_type": "markdown",
   "id": "68971b24",
   "metadata": {},
   "source": [
    "再转换第 43 分钟获取的结果"
   ]
  },
  {
   "cell_type": "code",
   "execution_count": null,
   "id": "dda40307",
   "metadata": {},
   "outputs": [],
   "source": [
    "fileList = list(Path('.').glob('cnemc_*43'))\n",
    "\n",
    "for f in fileList[:]:\n",
    "    print(f)\n",
    "    r = open(f,'rb')\n",
    "    records = Record.parse(r)\n",
    "\n",
    "    # 将print在std.out的内容赋予变量out_xml\n",
    "    f = StringIO()\n",
    "    with redirect_stdout(f):\n",
    "        print_records(records)\n",
    "    out_xml = f.getvalue()\n",
    "    \n",
    "    # 将数据从总的 xml 转为各个 dict 组成的 list\n",
    "    data_dict = data_from_xml_json(out_xml)\n",
    "    \n",
    "    # 将字典转为 DataFrame\n",
    "    df = pd.DataFrame.from_dict(data_dict)\n",
    "    # 如果出现不同的时间就把全部数据输出一份\n",
    "    if len(df['timepoint'].unique())>1:\n",
    "        df.to_csv('Problem'+df['timepoint'].unique()[0][:13]+'.csv',index=None)\n",
    "\n",
    "    # 将数据处理下再输出\n",
    "    df_ = df[['stationcode','timepoint','area', 'positionname', 'latitude', 'longitude',\n",
    "            'aqi','pm10', 'pm10_24h', 'pm2_5', 'pm2_5_24h','o3', 'o3_24h', 'o3_8h', 'o3_8h_24h',\n",
    "            'no2', 'no2_24h', 'so2', 'so2_24h','co', 'co_24h','primarypollutant']]\n",
    "    df_ = df_.where(df_!='-;',np.nan) \n",
    "    # 将每小时数据保存为 csv 文件\n",
    "    df_.to_csv(df['timepoint'].unique()[-1][:13]+'.csv',index=None)"
   ]
  },
  {
   "cell_type": "code",
   "execution_count": null,
   "id": "f1633cda",
   "metadata": {},
   "outputs": [],
   "source": [
    "!zip cnemc43_$(date +%Y%m%d%H%M).zip *.csv\n",
    "!rm *.csv"
   ]
  },
  {
   "cell_type": "markdown",
   "id": "96a72136",
   "metadata": {},
   "source": [
    "检查好再清理掉原始文件"
   ]
  },
  {
   "cell_type": "code",
   "execution_count": null,
   "id": "a9da7546",
   "metadata": {},
   "outputs": [],
   "source": [
    "!rm cnemc_*"
   ]
  },
  {
   "cell_type": "code",
   "execution_count": null,
   "id": "e49953cc",
   "metadata": {},
   "outputs": [],
   "source": []
  }
 ],
 "metadata": {
  "kernelspec": {
   "display_name": "Python 3",
   "language": "python",
   "name": "python3"
  },
  "language_info": {
   "codemirror_mode": {
    "name": "ipython",
    "version": 3
   },
   "file_extension": ".py",
   "mimetype": "text/x-python",
   "name": "python",
   "nbconvert_exporter": "python",
   "pygments_lexer": "ipython3",
   "version": "3.8.5"
  }
 },
 "nbformat": 4,
 "nbformat_minor": 5
}
